{
 "cells": [
  {
   "cell_type": "code",
   "execution_count": 2,
   "metadata": {
    "colab": {
     "base_uri": "https://localhost:8080/"
    },
    "executionInfo": {
     "elapsed": 4488,
     "status": "ok",
     "timestamp": 1622645540652,
     "user": {
      "displayName": "Dung Huynh Ngoc",
      "photoUrl": "https://lh3.googleusercontent.com/a-/AOh14GjtF9gASggrpmCt04dbyL02wo_akQeoBoEj9cCl=s64",
      "userId": "06081186698733625674"
     },
     "user_tz": -600
    },
    "id": "1e55zRwBNevB",
    "outputId": "dda8a814-ac03-4020-8408-aeea2597e2a0"
   },
   "outputs": [
    {
     "name": "stdout",
     "output_type": "stream",
     "text": [
      "Collecting diskcache\n",
      "\u001b[?25l  Downloading https://files.pythonhosted.org/packages/6a/5e/3deb8f9c83bead2af6f2cda97c4400516488464fede2853875a81e502953/diskcache-5.2.1-py3-none-any.whl (44kB)\n",
      "\r",
      "\u001b[K     |███████▍                        | 10kB 15.0MB/s eta 0:00:01\r",
      "\u001b[K     |██████████████▊                 | 20kB 15.4MB/s eta 0:00:01\r",
      "\u001b[K     |██████████████████████          | 30kB 10.9MB/s eta 0:00:01\r",
      "\u001b[K     |█████████████████████████████▍  | 40kB 9.3MB/s eta 0:00:01\r",
      "\u001b[K     |████████████████████████████████| 51kB 2.7MB/s \n",
      "\u001b[?25hInstalling collected packages: diskcache\n",
      "Successfully installed diskcache-5.2.1\n"
     ]
    }
   ],
   "source": [
    "pip install diskcache"
   ]
  },
  {
   "cell_type": "code",
   "execution_count": 3,
   "metadata": {
    "ExecuteTime": {
     "end_time": "2021-03-27T12:51:50.528226Z",
     "start_time": "2021-03-27T12:51:49.926495Z"
    },
    "executionInfo": {
     "elapsed": 257,
     "status": "ok",
     "timestamp": 1622645542653,
     "user": {
      "displayName": "Dung Huynh Ngoc",
      "photoUrl": "https://lh3.googleusercontent.com/a-/AOh14GjtF9gASggrpmCt04dbyL02wo_akQeoBoEj9cCl=s64",
      "userId": "06081186698733625674"
     },
     "user_tz": -600
    },
    "id": "Rb0zbeyWNVxD"
   },
   "outputs": [],
   "source": [
    "import os\n",
    "import pandas as pd\n",
    "from sklearn.model_selection import train_test_split\n",
    "import diskcache as dc\n",
    "import numpy as np\n",
    "\n",
    "random_seed = 100\n",
    "project_name = \"sim\"\n",
    "data_version = \"27-03-2021\""
   ]
  },
  {
   "cell_type": "markdown",
   "metadata": {
    "ExecuteTime": {
     "end_time": "2021-03-27T01:46:44.752337Z",
     "start_time": "2021-03-27T01:46:44.749173Z"
    },
    "id": "5PwcNpIDNVxH"
   },
   "source": [
    "# make train and dev"
   ]
  },
  {
   "cell_type": "code",
   "execution_count": 4,
   "metadata": {
    "ExecuteTime": {
     "end_time": "2021-03-27T12:51:50.559762Z",
     "start_time": "2021-03-27T12:51:50.530475Z"
    },
    "colab": {
     "base_uri": "https://localhost:8080/",
     "height": 238
    },
    "executionInfo": {
     "elapsed": 254,
     "status": "error",
     "timestamp": 1622645544546,
     "user": {
      "displayName": "Dung Huynh Ngoc",
      "photoUrl": "https://lh3.googleusercontent.com/a-/AOh14GjtF9gASggrpmCt04dbyL02wo_akQeoBoEj9cCl=s64",
      "userId": "06081186698733625674"
     },
     "user_tz": -600
    },
    "id": "FBWEQMvhNVxH",
    "outputId": "296b944c-49d7-48e5-ebf4-b6e7ef3f3fd2"
   },
   "outputs": [
    {
     "ename": "FileNotFoundError",
     "evalue": "ignored",
     "output_type": "error",
     "traceback": [
      "\u001b[0;31m---------------------------------------------------------------------------\u001b[0m",
      "\u001b[0;31mFileNotFoundError\u001b[0m                         Traceback (most recent call last)",
      "\u001b[0;32m<ipython-input-4-be384db02a4d>\u001b[0m in \u001b[0;36m<module>\u001b[0;34m()\u001b[0m\n\u001b[1;32m      2\u001b[0m \u001b[0mcategories\u001b[0m \u001b[0;34m=\u001b[0m \u001b[0;34m[\u001b[0m\u001b[0;34m]\u001b[0m\u001b[0;34m\u001b[0m\u001b[0;34m\u001b[0m\u001b[0m\n\u001b[1;32m      3\u001b[0m \u001b[0mroot_dir\u001b[0m \u001b[0;34m=\u001b[0m \u001b[0;34m\"/home/ngoc.huynh/data/sim/dataset/simpsons_train/\"\u001b[0m\u001b[0;34m\u001b[0m\u001b[0;34m\u001b[0m\u001b[0m\n\u001b[0;32m----> 4\u001b[0;31m \u001b[0;32mfor\u001b[0m \u001b[0mc\u001b[0m \u001b[0;32min\u001b[0m \u001b[0mos\u001b[0m\u001b[0;34m.\u001b[0m\u001b[0mlistdir\u001b[0m\u001b[0;34m(\u001b[0m\u001b[0mroot_dir\u001b[0m\u001b[0;34m)\u001b[0m\u001b[0;34m:\u001b[0m\u001b[0;34m\u001b[0m\u001b[0;34m\u001b[0m\u001b[0m\n\u001b[0m\u001b[1;32m      5\u001b[0m     \u001b[0;32mfor\u001b[0m \u001b[0mi\u001b[0m \u001b[0;32min\u001b[0m \u001b[0mos\u001b[0m\u001b[0;34m.\u001b[0m\u001b[0mlistdir\u001b[0m\u001b[0;34m(\u001b[0m\u001b[0mroot_dir\u001b[0m \u001b[0;34m+\u001b[0m \u001b[0mc\u001b[0m\u001b[0;34m)\u001b[0m\u001b[0;34m:\u001b[0m\u001b[0;34m\u001b[0m\u001b[0;34m\u001b[0m\u001b[0m\n\u001b[1;32m      6\u001b[0m         \u001b[0mpath\u001b[0m \u001b[0;34m=\u001b[0m \u001b[0mroot_dir\u001b[0m \u001b[0;34m+\u001b[0m \u001b[0mc\u001b[0m \u001b[0;34m+\u001b[0m \u001b[0;34m\"/\"\u001b[0m \u001b[0;34m+\u001b[0m \u001b[0mi\u001b[0m\u001b[0;34m\u001b[0m\u001b[0;34m\u001b[0m\u001b[0m\n",
      "\u001b[0;31mFileNotFoundError\u001b[0m: [Errno 2] No such file or directory: '/home/ngoc.huynh/data/sim/dataset/simpsons_train/'"
     ]
    }
   ],
   "source": [
    "image_paths = []\n",
    "categories = []\n",
    "root_dir = \"/home/ngoc.huynh/data/sim/dataset/simpsons_train/\"\n",
    "for c in os.listdir(root_dir):\n",
    "    for i in os.listdir(root_dir + c):\n",
    "        path = root_dir + c + \"/\" + i\n",
    "        image_paths += [i]\n",
    "        categories += [c]\n",
    "        \n",
    "dataset = pd.DataFrame({\n",
    "    \"x_col\": image_paths, \n",
    "    \"y_col\": categories,\n",
    "    \"role\": \"\"\n",
    "})"
   ]
  },
  {
   "cell_type": "code",
   "execution_count": null,
   "metadata": {
    "ExecuteTime": {
     "end_time": "2021-03-27T12:51:50.593172Z",
     "start_time": "2021-03-27T12:51:50.563422Z"
    },
    "executionInfo": {
     "elapsed": 7,
     "status": "aborted",
     "timestamp": 1622645515114,
     "user": {
      "displayName": "Dung Huynh Ngoc",
      "photoUrl": "https://lh3.googleusercontent.com/a-/AOh14GjtF9gASggrpmCt04dbyL02wo_akQeoBoEj9cCl=s64",
      "userId": "06081186698733625674"
     },
     "user_tz": -600
    },
    "id": "2o1OpPMPNVxI"
   },
   "outputs": [],
   "source": [
    "cache = dc.Cache(\"split2\")\n",
    "\n",
    "train_paths = set(cache[\"train\"])\n",
    "dev_paths = set(cache[\"dev\"])\n",
    "dataset['role'] = np.where(dataset.x_col.isin(train_paths), \"train\", dataset['role'])\n",
    "dataset['role'] = np.where(dataset.x_col.isin(dev_paths), \"dev\", dataset['role'])\n",
    "\n",
    "unassigned_dataset = dataset[dataset.role == \"\"].copy()"
   ]
  },
  {
   "cell_type": "code",
   "execution_count": null,
   "metadata": {
    "ExecuteTime": {
     "end_time": "2021-03-27T12:51:50.666813Z",
     "start_time": "2021-03-27T12:51:50.596626Z"
    },
    "executionInfo": {
     "elapsed": 8,
     "status": "aborted",
     "timestamp": 1622645515115,
     "user": {
      "displayName": "Dung Huynh Ngoc",
      "photoUrl": "https://lh3.googleusercontent.com/a-/AOh14GjtF9gASggrpmCt04dbyL02wo_akQeoBoEj9cCl=s64",
      "userId": "06081186698733625674"
     },
     "user_tz": -600
    },
    "id": "Nw0gbzwKNVxI"
   },
   "outputs": [],
   "source": [
    "if len(unassigned_dataset) > 0:\n",
    "    train_split, dev_split = train_test_split(\n",
    "        unassigned_dataset, \n",
    "        test_size=0.08, \n",
    "        stratify=dataset[\"y_col\"], \n",
    "        random_state=random_seed\n",
    "    )\n",
    "\n",
    "    train_paths = set(train_split[\"x_col\"])\n",
    "    dev_paths = set(dev_split[\"x_col\"])\n",
    "    dataset['role'] = np.where(dataset.x_col.isin(train_paths), \"train\", dataset['role'])\n",
    "    dataset['role'] = np.where(dataset.x_col.isin(dev_paths), \"dev\", dataset['role'])\n",
    "    cache[\"train\"] += list(train_split[\"x_col\"])\n",
    "    cache[\"dev\"] += list(dev_split[\"x_col\"])"
   ]
  },
  {
   "cell_type": "code",
   "execution_count": null,
   "metadata": {
    "ExecuteTime": {
     "end_time": "2021-03-27T12:51:50.680091Z",
     "start_time": "2021-03-27T12:51:50.669554Z"
    },
    "executionInfo": {
     "elapsed": 8,
     "status": "aborted",
     "timestamp": 1622645515115,
     "user": {
      "displayName": "Dung Huynh Ngoc",
      "photoUrl": "https://lh3.googleusercontent.com/a-/AOh14GjtF9gASggrpmCt04dbyL02wo_akQeoBoEj9cCl=s64",
      "userId": "06081186698733625674"
     },
     "user_tz": -600
    },
    "id": "-8EpLbrINVxJ"
   },
   "outputs": [],
   "source": [
    "train = dataset[dataset.role == \"train\"].copy()\n",
    "dev = dataset[dataset.role == \"dev\"].copy()\n",
    "test_test = dev.iloc[:512]"
   ]
  },
  {
   "cell_type": "markdown",
   "metadata": {
    "id": "o8Eyk7_lNVxJ"
   },
   "source": [
    "# make the data folders"
   ]
  },
  {
   "cell_type": "code",
   "execution_count": null,
   "metadata": {
    "ExecuteTime": {
     "end_time": "2021-03-27T12:51:50.686773Z",
     "start_time": "2021-03-27T12:51:50.683466Z"
    },
    "id": "PyUQA5bbNVxK"
   },
   "outputs": [],
   "source": [
    "main_local_path = f\"/home/ngoc.huynh/data/{project_name}/{data_version}\"\n",
    "main_cloud_path = f\"/home/byte_ailab_litg/user/ngoc.huynh/{project_name}/data/{data_version}\"\n",
    "test_local_path = f\"/home/ngoc.huynh/data/{project_name}/{data_version}-test\"\n",
    "test_cloud_path = f\"/home/byte_ailab_litg/user/ngoc.huynh/{project_name}/data/{data_version}-test\""
   ]
  },
  {
   "cell_type": "code",
   "execution_count": null,
   "metadata": {
    "ExecuteTime": {
     "end_time": "2021-03-27T12:52:02.888106Z",
     "start_time": "2021-03-27T12:51:50.689088Z"
    },
    "id": "qv98BMk1NVxK",
    "outputId": "690ece16-97ed-4ffb-d9bd-bc95e35bd541"
   },
   "outputs": [
    {
     "data": {
      "text/plain": [
       "0"
      ]
     },
     "execution_count": 7,
     "metadata": {
      "tags": []
     },
     "output_type": "execute_result"
    }
   ],
   "source": [
    "os.system(f\"rm -r {main_local_path}\")\n",
    "os.system(f\"mkdir {main_local_path}\")\n",
    "os.system(f\"rm -r {test_local_path}\")\n",
    "os.system(f\"mkdir {test_local_path}\")\n",
    "\n",
    "os.system(f\"hadoop fs -rm -r {main_cloud_path}\")\n",
    "os.system(f\"hadoop fs -mkdir {main_cloud_path}\")\n",
    "os.system(f\"hadoop fs -rm -r {test_cloud_path}\")\n",
    "os.system(f\"hadoop fs -mkdir {test_cloud_path}\")"
   ]
  },
  {
   "cell_type": "code",
   "execution_count": null,
   "metadata": {
    "ExecuteTime": {
     "end_time": "2021-03-27T12:52:02.973720Z",
     "start_time": "2021-03-27T12:52:02.891868Z"
    },
    "id": "j7GdirBTNVxL"
   },
   "outputs": [],
   "source": [
    "dataset.to_csv(f\"{main_local_path}/dataset.csv\", index=False)\n",
    "train.to_csv  (f\"{main_local_path}/train.csv\", index=False)\n",
    "dev.to_csv    (f\"{main_local_path}/dev.csv\", index=False)"
   ]
  },
  {
   "cell_type": "code",
   "execution_count": null,
   "metadata": {
    "ExecuteTime": {
     "end_time": "2021-03-27T12:52:02.991152Z",
     "start_time": "2021-03-27T12:52:02.977232Z"
    },
    "id": "J64btVdrNVxM"
   },
   "outputs": [],
   "source": [
    "test_test.to_csv(f\"{test_local_path}/dataset.csv\", index=False)\n",
    "test_test.to_csv(f\"{test_local_path}/train.csv\", index=False)\n",
    "test_test.to_csv(f\"{test_local_path}/dev.csv\", index=False)"
   ]
  },
  {
   "cell_type": "code",
   "execution_count": null,
   "metadata": {
    "ExecuteTime": {
     "end_time": "2021-03-27T12:52:10.445224Z",
     "start_time": "2021-03-27T12:52:02.993987Z"
    },
    "id": "xXy22JJ2NVxM",
    "outputId": "1a26443b-9265-40b3-f207-5ff20184ee2a"
   },
   "outputs": [
    {
     "data": {
      "text/plain": [
       "0"
      ]
     },
     "execution_count": 10,
     "metadata": {
      "tags": []
     },
     "output_type": "execute_result"
    }
   ],
   "source": [
    "os.system(f\"hadoop fs -put {main_local_path}/* {main_cloud_path}\")\n",
    "os.system(f\"hadoop fs -put {test_local_path}/* {test_cloud_path}\")"
   ]
  }
 ],
 "metadata": {
  "colab": {
   "name": "make-data.ipynb",
   "provenance": []
  },
  "kernelspec": {
   "display_name": "Python 3",
   "language": "python",
   "name": "python3"
  },
  "language_info": {
   "codemirror_mode": {
    "name": "ipython",
    "version": 3
   },
   "file_extension": ".py",
   "mimetype": "text/x-python",
   "name": "python",
   "nbconvert_exporter": "python",
   "pygments_lexer": "ipython3",
   "version": "3.8.0"
  },
  "varInspector": {
   "cols": {
    "lenName": 16,
    "lenType": 16,
    "lenVar": 40
   },
   "kernels_config": {
    "python": {
     "delete_cmd_postfix": "",
     "delete_cmd_prefix": "del ",
     "library": "var_list.py",
     "varRefreshCmd": "print(var_dic_list())"
    },
    "r": {
     "delete_cmd_postfix": ") ",
     "delete_cmd_prefix": "rm(",
     "library": "var_list.r",
     "varRefreshCmd": "cat(var_dic_list()) "
    }
   },
   "types_to_exclude": [
    "module",
    "function",
    "builtin_function_or_method",
    "instance",
    "_Feature"
   ],
   "window_display": false
  }
 },
 "nbformat": 4,
 "nbformat_minor": 1
}
